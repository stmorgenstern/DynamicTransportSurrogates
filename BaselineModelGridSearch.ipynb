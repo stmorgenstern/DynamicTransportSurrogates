{
 "cells": [
  {
   "cell_type": "markdown",
   "id": "4134eb9a",
   "metadata": {},
   "source": [
    "Import the necessary machine learning and utility packages"
   ]
  },
  {
   "cell_type": "code",
   "execution_count": 1,
   "id": "6ce70021",
   "metadata": {},
   "outputs": [],
   "source": [
    "using Flux,Statistics,Plots,MLDataUtils\n",
    "using Flux.Data: DataLoader\n",
    "include(\"utilityfunc.jl\");"
   ]
  },
  {
   "cell_type": "markdown",
   "id": "10a5b373",
   "metadata": {},
   "source": [
    "Set the upper and lower bounds on the features and define the scaling and unscaling functions"
   ]
  },
  {
   "cell_type": "code",
   "execution_count": 2,
   "id": "3f3390b0",
   "metadata": {},
   "outputs": [
    {
     "data": {
      "text/plain": [
       "inv_oscaler (generic function with 1 method)"
      ]
     },
     "execution_count": 2,
     "metadata": {},
     "output_type": "execute_result"
    }
   ],
   "source": [
    "#set lower and upper bounds on Lpt, Kt, Rs,(Lpt is first element, Kt is second element, Rs is the third element)\n",
    "lb=Float32[5e-7,5e-7,5]\n",
    "ub=Float32[5e-6,5e-6,30]\n",
    "conc_ub=Float32(.6)\n",
    "iscaler(x)=(x-lb)./(ub-lb)\n",
    "inv_iscaler(x)=x.*(ub.-lb).+lb\n",
    "oscaler(x)= x ./ conc_ub\n",
    "inv_oscaler(x)=x.*conc_ub"
   ]
  },
  {
   "cell_type": "code",
   "execution_count": 3,
   "id": "dc038a7a",
   "metadata": {},
   "outputs": [
    {
     "data": {
      "text/plain": [
       "iscalerbatch (generic function with 1 method)"
      ]
     },
     "execution_count": 3,
     "metadata": {},
     "output_type": "execute_result"
    }
   ],
   "source": [
    "function iscalerbatch(x)\n",
    "    nfeat,sl = size(x)\n",
    "    out=Array{Float32,2}(undef,nfeat,sl)\n",
    "    for i=1:sl\n",
    "        out[:,i]=iscaler(x[:,i])\n",
    "    end\n",
    "    return out\n",
    "end"
   ]
  },
  {
   "cell_type": "code",
   "execution_count": 4,
   "id": "62018489",
   "metadata": {},
   "outputs": [
    {
     "data": {
      "text/plain": [
       "inv_iscalerbatch (generic function with 1 method)"
      ]
     },
     "execution_count": 4,
     "metadata": {},
     "output_type": "execute_result"
    }
   ],
   "source": [
    "function inv_iscalerbatch(x)\n",
    "    nfeat,sl = size(x)\n",
    "    out=Array{Float32,2}(undef,nfeat,sl)\n",
    "    for i=1:sl\n",
    "        out[:,i]=inv_iscaler(x[:,i])\n",
    "    end\n",
    "    return out\n",
    "end"
   ]
  },
  {
   "cell_type": "markdown",
   "id": "0673176d",
   "metadata": {},
   "source": [
    "Define model characteristics, load the data, reshape the data into proper form, and scale the data"
   ]
  },
  {
   "cell_type": "code",
   "execution_count": 5,
   "id": "ae89d5e9",
   "metadata": {},
   "outputs": [],
   "source": [
    "n_samp=Int64(1e4); # number of samples\n",
    "nfeat=3; #5 features\n",
    "ntarg=20; #1 target values"
   ]
  },
  {
   "cell_type": "code",
   "execution_count": 6,
   "id": "5aef0ea6",
   "metadata": {},
   "outputs": [],
   "source": [
    "d = readdlm(\"MLFinalData_v3.csv\",',',Float32)\n",
    "X_p= d[1:5,:];\n",
    "Y_p= d[6,:];\n",
    "X=Array{Float32,2}(undef,3,n_samp)\n",
    "for i=1:n_samp\n",
    "    X[:,i]=X_p[1:3,20*i]\n",
    "end\n",
    "Y=reshape(Y_p,(20,n_samp));"
   ]
  },
  {
   "cell_type": "code",
   "execution_count": 7,
   "id": "0bc253cc",
   "metadata": {},
   "outputs": [],
   "source": [
    "X=iscalerbatch(X);\n",
    "Y = Float32.(oscaler(Y));"
   ]
  },
  {
   "cell_type": "markdown",
   "id": "405b6c18",
   "metadata": {},
   "source": [
    "Split the data into training, validation, and test sets using 80/10/10 Split"
   ]
  },
  {
   "cell_type": "code",
   "execution_count": 8,
   "id": "6a387cd2",
   "metadata": {},
   "outputs": [],
   "source": [
    "(xtrg, ytrg), (xtg, ytg),(xtest,ytest) = splitobs((X, Y), at = (0.8,.1) );\n",
    "datatrg=DataLoader((xtrg, ytrg));"
   ]
  },
  {
   "cell_type": "markdown",
   "id": "76fdfd0b",
   "metadata": {},
   "source": [
    "Define the MSE loss function"
   ]
  },
  {
   "cell_type": "code",
   "execution_count": 9,
   "id": "cdf479e6",
   "metadata": {},
   "outputs": [
    {
     "data": {
      "text/plain": [
       "closs (generic function with 1 method)"
      ]
     },
     "execution_count": 9,
     "metadata": {},
     "output_type": "execute_result"
    }
   ],
   "source": [
    "function closs(x,y,nn)\n",
    "     Flux.mse(nn(x), y)\n",
    "end"
   ]
  },
  {
   "cell_type": "markdown",
   "id": "dc151ecc",
   "metadata": {},
   "source": [
    "Set training hyperparameters - 50 epochs, ADAM with a fixed learning rate of 10^-3\n",
    "\n",
    "Then set the number of features=5,target=1\n",
    "\n",
    "Execute grid search to assess 18 candidate models for the full integration MLP model. We vary the number of hidden layers (1-2), the activation function (tanh/ReLU/swish), and the number of nodes per hidden layer (8,16,32)"
   ]
  },
  {
   "cell_type": "code",
   "execution_count": 10,
   "id": "bf09b6f4",
   "metadata": {},
   "outputs": [
    {
     "data": {
      "text/plain": [
       "gridsearchMLP (generic function with 1 method)"
      ]
     },
     "execution_count": 10,
     "metadata": {},
     "output_type": "execute_result"
    }
   ],
   "source": [
    "function gridsearchMLP(data_train,x_val,y_val)\n",
    "    println(\"Beginning grid search:\")\n",
    "    opt= ADAM(1e-3)\n",
    "    n_epochs = 50;\n",
    "    nfeat =3; ntarg =20;\n",
    "    nh_8,nh_16,nh_32 = 8,16,32;\n",
    "    m_list = [Chain(Dense(nfeat,nh_8),Dense(nh_8, nh_8,Flux.tanh),Dense(nh_8,ntarg))\n",
    "    Chain(Dense(nfeat,nh_8),Dense(nh_8, nh_8,Flux.tanh),Dense(nh_8, nh_8,Flux.tanh),Dense(nh_8,ntarg))\n",
    "        Chain(Dense(nfeat,nh_8),Dense(nh_8, nh_8,Flux.swish),Dense(nh_8,ntarg))\n",
    "    Chain(Dense(nfeat,nh_8),Dense(nh_8, nh_8,Flux.swish),Dense(nh_8, nh_8,Flux.swish),Dense(nh_8,ntarg))\n",
    "        Chain(Dense(nfeat,nh_8),Dense(nh_8, nh_8,Flux.relu),Dense(nh_8,ntarg))\n",
    "    Chain(Dense(nfeat,nh_8),Dense(nh_8, nh_8,Flux.relu),Dense(nh_8, nh_8,Flux.relu),Dense(nh_8,ntarg))\n",
    "            Chain(Dense(nfeat,nh_16),Dense(nh_16, nh_16,Flux.tanh),Dense(nh_16,ntarg))\n",
    "    Chain(Dense(nfeat,nh_16),Dense(nh_16, nh_16,Flux.tanh),Dense(nh_16, nh_16,Flux.tanh),Dense(nh_16,ntarg))\n",
    "        Chain(Dense(nfeat,nh_16),Dense(nh_16, nh_16,Flux.swish),Dense(nh_16,ntarg))\n",
    "    Chain(Dense(nfeat,nh_16),Dense(nh_16, nh_16,Flux.swish),Dense(nh_16, nh_16,Flux.swish),Dense(nh_16,ntarg))\n",
    "        Chain(Dense(nfeat,nh_16),Dense(nh_16, nh_16,Flux.relu),Dense(nh_16,ntarg))\n",
    "    Chain(Dense(nfeat,nh_16),Dense(nh_16, nh_16,Flux.relu),Dense(nh_16, nh_16,Flux.relu),Dense(nh_16,ntarg))\n",
    "                    Chain(Dense(nfeat,nh_32),Dense(nh_32, nh_32,Flux.tanh),Dense(nh_32,ntarg))\n",
    "    Chain(Dense(nfeat,nh_32),Dense(nh_32, nh_32,Flux.tanh),Dense(nh_32, nh_32,Flux.tanh),Dense(nh_32,ntarg))\n",
    "        Chain(Dense(nfeat,nh_32),Dense(nh_32, nh_32,Flux.swish),Dense(nh_32,ntarg))\n",
    "    Chain(Dense(nfeat,nh_32),Dense(nh_32, nh_32,Flux.swish),Dense(nh_32, nh_32,Flux.swish),Dense(nh_32,ntarg))\n",
    "        Chain(Dense(nfeat,nh_32),Dense(nh_32, nh_32,Flux.relu),Dense(nh_32,ntarg))\n",
    "    Chain(Dense(nfeat,nh_32),Dense(nh_32, nh_32,Flux.relu),Dense(nh_32, nh_32,Flux.relu),Dense(nh_32,ntarg))\n",
    "    ]\n",
    "    ps_l = [params(x) for x in m_list]\n",
    "    record = Array{Any,2}(undef,2,18);\n",
    "    record[1,:]=[\"8tanh1\" \"8tanh2\" \"8swish1\" \"8swish2\" \"8relu1\" \"8relu2\"\n",
    "    \"16tanh1\" \"16tanh2\" \"16swish1\" \"16swish2\" \"16relu1\" \"16relu2\"\n",
    "        \"32tanh1\" \"32tanh2\" \"32swish1\" \"32swish2\" \"32relu1\" \"32relu2\"]\n",
    "    for i=1:18\n",
    "        r=record[1,i]\n",
    "        println(\"beginning model $i $r\")\n",
    "        iloss(x,y)=closs(x,y,m_list[i])\n",
    "        psi = ps_l[i]\n",
    "        for i=1:50\n",
    "            Flux.train!(iloss, psi, data_train, opt)\n",
    "        end\n",
    "        @show record[2,i]=iloss(x_val,y_val)\n",
    "    end\n",
    "    return record\n",
    "end"
   ]
  },
  {
   "cell_type": "code",
   "execution_count": null,
   "id": "dce2cfb2",
   "metadata": {},
   "outputs": [],
   "source": [
    "gridsearchMLP(datatrg,xtg,ytg) #run function"
   ]
  },
  {
   "cell_type": "markdown",
   "id": "5b29bbc2",
   "metadata": {},
   "source": [
    "A record of the original grid search run is saved in the file \"record of grid search\".xlsx -> it is important to note training is computationally expensive and stochastic and that any further runs may take a long time and not match the original results"
   ]
  }
 ],
 "metadata": {
  "kernelspec": {
   "display_name": "Julia 1.6.1",
   "language": "julia",
   "name": "julia-1.6"
  },
  "language_info": {
   "file_extension": ".jl",
   "mimetype": "application/julia",
   "name": "julia",
   "version": "1.6.1"
  }
 },
 "nbformat": 4,
 "nbformat_minor": 5
}
